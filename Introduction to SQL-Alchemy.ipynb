{
    "cells": [
        {
            "cell_type": "markdown",
            "metadata": {},
            "source": "## It is an attempt to replicate the work \"An Introduction to SQLAlchemy in Python\" done by Riley Predum in \"towardsdatascience.com\""
        },
        {
            "cell_type": "markdown",
            "metadata": {},
            "source": "# Import Modules"
        },
        {
            "cell_type": "code",
            "execution_count": 1,
            "metadata": {},
            "outputs": [],
            "source": "import sqlalchemy\nfrom sqlalchemy import create_engine\nfrom sqlalchemy import Table, Column, Integer, String, MetaData, ForeignKey\nfrom sqlalchemy import inspect"
        },
        {
            "cell_type": "markdown",
            "metadata": {},
            "source": "# Create Engine to connect database"
        },
        {
            "cell_type": "code",
            "execution_count": 2,
            "metadata": {},
            "outputs": [
                {
                    "data": {
                        "text/plain": "Engine(sqlite:///chinook.db)"
                    },
                    "execution_count": 2,
                    "metadata": {},
                    "output_type": "execute_result"
                }
            ],
            "source": "engine = create_engine('sqlite:///chinook.db')\n\nengine"
        },
        {
            "cell_type": "code",
            "execution_count": 3,
            "metadata": {},
            "outputs": [],
            "source": "metadata = MetaData()"
        },
        {
            "cell_type": "code",
            "execution_count": 4,
            "metadata": {},
            "outputs": [],
            "source": "metadata.create_all(engine)"
        },
        {
            "cell_type": "code",
            "execution_count": 5,
            "metadata": {},
            "outputs": [],
            "source": "inspector = inspect(engine)"
        },
        {
            "cell_type": "code",
            "execution_count": 6,
            "metadata": {
                "scrolled": true
            },
            "outputs": [
                {
                    "data": {
                        "text/plain": "[{'name': 'EmployeeId',\n  'type': INTEGER(),\n  'nullable': False,\n  'default': None,\n  'autoincrement': 'auto',\n  'primary_key': 1},\n {'name': 'LastName',\n  'type': NVARCHAR(length=20),\n  'nullable': False,\n  'default': None,\n  'autoincrement': 'auto',\n  'primary_key': 0},\n {'name': 'FirstName',\n  'type': NVARCHAR(length=20),\n  'nullable': False,\n  'default': None,\n  'autoincrement': 'auto',\n  'primary_key': 0},\n {'name': 'Title',\n  'type': NVARCHAR(length=30),\n  'nullable': True,\n  'default': None,\n  'autoincrement': 'auto',\n  'primary_key': 0},\n {'name': 'ReportsTo',\n  'type': INTEGER(),\n  'nullable': True,\n  'default': None,\n  'autoincrement': 'auto',\n  'primary_key': 0},\n {'name': 'BirthDate',\n  'type': DATETIME(),\n  'nullable': True,\n  'default': None,\n  'autoincrement': 'auto',\n  'primary_key': 0},\n {'name': 'HireDate',\n  'type': DATETIME(),\n  'nullable': True,\n  'default': None,\n  'autoincrement': 'auto',\n  'primary_key': 0},\n {'name': 'Address',\n  'type': NVARCHAR(length=70),\n  'nullable': True,\n  'default': None,\n  'autoincrement': 'auto',\n  'primary_key': 0},\n {'name': 'City',\n  'type': NVARCHAR(length=40),\n  'nullable': True,\n  'default': None,\n  'autoincrement': 'auto',\n  'primary_key': 0},\n {'name': 'State',\n  'type': NVARCHAR(length=40),\n  'nullable': True,\n  'default': None,\n  'autoincrement': 'auto',\n  'primary_key': 0},\n {'name': 'Country',\n  'type': NVARCHAR(length=40),\n  'nullable': True,\n  'default': None,\n  'autoincrement': 'auto',\n  'primary_key': 0},\n {'name': 'PostalCode',\n  'type': NVARCHAR(length=10),\n  'nullable': True,\n  'default': None,\n  'autoincrement': 'auto',\n  'primary_key': 0},\n {'name': 'Phone',\n  'type': NVARCHAR(length=24),\n  'nullable': True,\n  'default': None,\n  'autoincrement': 'auto',\n  'primary_key': 0},\n {'name': 'Fax',\n  'type': NVARCHAR(length=24),\n  'nullable': True,\n  'default': None,\n  'autoincrement': 'auto',\n  'primary_key': 0},\n {'name': 'Email',\n  'type': NVARCHAR(length=60),\n  'nullable': True,\n  'default': None,\n  'autoincrement': 'auto',\n  'primary_key': 0}]"
                    },
                    "execution_count": 6,
                    "metadata": {},
                    "output_type": "execute_result"
                }
            ],
            "source": "inspector.get_columns('employees')"
        },
        {
            "cell_type": "markdown",
            "metadata": {},
            "source": "# Execute a Query"
        },
        {
            "cell_type": "code",
            "execution_count": 13,
            "metadata": {},
            "outputs": [
                {
                    "name": "stdout",
                    "output_type": "stream",
                    "text": "(1, 'Adams', 'Andrew', 'General Manager', None, '1962-02-18 00:00:00', '2002-08-14 00:00:00', '11120 Jasper Ave NW', 'Edmonton', 'AB', 'Canada', 'T5K 2N1', '+1 (780) 428-9482', '+1 (780) 428-3457', 'andrew@chinookcorp.com')\n(2, 'Edwards', 'Nancy', 'Sales Manager', 1, '1958-12-08 00:00:00', '2002-05-01 00:00:00', '825 8 Ave SW', 'Calgary', 'AB', 'Canada', 'T2P 2T3', '+1 (403) 262-3443', '+1 (403) 262-3322', 'nancy@chinookcorp.com')\n(3, 'Peacock', 'Jane', 'Sales Support Agent', 2, '1973-08-29 00:00:00', '2002-04-01 00:00:00', '1111 6 Ave SW', 'Calgary', 'AB', 'Canada', 'T2P 5M5', '+1 (403) 262-3443', '+1 (403) 262-6712', 'jane@chinookcorp.com')\n(4, 'Park', 'Margaret', 'Sales Support Agent', 2, '1947-09-19 00:00:00', '2003-05-03 00:00:00', '683 10 Street SW', 'Calgary', 'AB', 'Canada', 'T2P 5G3', '+1 (403) 263-4423', '+1 (403) 263-4289', 'margaret@chinookcorp.com')\n(5, 'Johnson', 'Steve', 'Sales Support Agent', 2, '1965-03-03 00:00:00', '2003-10-17 00:00:00', '7727B 41 Ave', 'Calgary', 'AB', 'Canada', 'T3B 1Y7', '1 (780) 836-9987', '1 (780) 836-9543', 'steve@chinookcorp.com')\n(6, 'Mitchell', 'Michael', 'IT Manager', 1, '1973-07-01 00:00:00', '2003-10-17 00:00:00', '5827 Bowness Road NW', 'Calgary', 'AB', 'Canada', 'T3B 0C5', '+1 (403) 246-9887', '+1 (403) 246-9899', 'michael@chinookcorp.com')\n(7, 'King', 'Robert', 'IT Staff', 6, '1970-05-29 00:00:00', '2004-01-02 00:00:00', '590 Columbia Boulevard West', 'Lethbridge', 'AB', 'Canada', 'T1K 5N8', '+1 (403) 456-9986', '+1 (403) 456-8485', 'robert@chinookcorp.com')\n(8, 'Callahan', 'Laura', 'IT Staff', 6, '1968-01-09 00:00:00', '2004-03-04 00:00:00', '923 7 ST NW', 'Lethbridge', 'AB', 'Canada', 'T1H 1Y8', '+1 (403) 467-3351', '+1 (403) 467-8772', 'laura@chinookcorp.com')\n"
                }
            ],
            "source": "with engine.connect() as con:\n    \n    rs = con.execute(\"SELECT * FROM employees\")\n  \n    for i, row in enumerate(rs):\n        print(row)\n        \n        \ncon.close()"
        },
        {
            "cell_type": "code",
            "execution_count": 14,
            "metadata": {},
            "outputs": [
                {
                    "name": "stdout",
                    "output_type": "stream",
                    "text": "(8,)\n"
                }
            ],
            "source": "with engine.connect() as con:\n    \n    rs = con.execute(\"SELECT COUNT(EmployeeId) FROM employees\")\n    \n    for row in rs:\n        print(row)\n        \ncon.close()"
        },
        {
            "cell_type": "code",
            "execution_count": 19,
            "metadata": {},
            "outputs": [
                {
                    "name": "stdout",
                    "output_type": "stream",
                    "text": "(3, 21)\n(4, 20)\n(5, 18)\n"
                }
            ],
            "source": "with engine.connect() as con:\n    rs = con.execute(\"\"\"SELECT SupportRepID, COUNT(SupportRepId)\n                     FROM Customers \n                     GROUP BY SupportRepId;\"\"\")\n    \n    for row in rs:\n        print(row)\n        \ncon.close()"
        },
        {
            "cell_type": "code",
            "execution_count": 24,
            "metadata": {},
            "outputs": [
                {
                    "name": "stdout",
                    "output_type": "stream",
                    "text": "('2002-04-01 00:00:00', 3)\n('2003-05-03 00:00:00', 4)\n('2003-10-17 00:00:00', 5)\n"
                }
            ],
            "source": "with engine.connect() as con:\n    rs = con.execute(\"\"\"SELECT HireDate, EmployeeId \n                    FROM employees WHERE EmployeeId BETWEEN 3 AND 5\"\"\")\n    for row in rs:\n        print(row)\n        \ncon.close()"
        },
        {
            "cell_type": "code",
            "execution_count": 25,
            "metadata": {},
            "outputs": [
                {
                    "name": "stdout",
                    "output_type": "stream",
                    "text": "('2002-04-01 00:00:00', 3)\n"
                }
            ],
            "source": "with engine.connect() as con:\n    \n    rs = con.execute(\"\"\"SELECT MIN(HireDate), EmployeeId\n                    FROM employees;\"\"\")\n    for row in rs:\n        print(row)\n\ncon.close()"
        },
        {
            "cell_type": "code",
            "execution_count": 26,
            "metadata": {},
            "outputs": [
                {
                    "name": "stdout",
                    "output_type": "stream",
                    "text": "(5, 'USA', 99, 5, 99, 3277)\n(4, 'Canada', 42, 4, 42, 1438)\n(8, 'France', 234, 8, 234, 1168)\n(1, 'Germany', 2, 1, 2, 914)\n(25, 'Brazil', 738, 25, 738, 881)\n(46, 'Czech Republic', 1434, 46, 1434, 879)\n(22, 'Chile', 698, 22, 698, 525)\n(11, 'United Kingdom', 274, 11, 274, 506)\n(10, 'Ireland', 248, 10, 248, 476)\n(28, 'Portugal', 927, 28, 927, 429)\n(23, 'India', 702, 23, 702, 417)\n(85, 'Hungary', 2786, 85, 2786, 380)\n(78, 'Austria', 2554, 78, 2554, 374)\n(53, 'Finland', 1666, 53, 1666, 355)\n(32, 'Netherlands', 970, 32, 970, 305)\n(2, 'Norway', 6, 2, 6, 268)\n(42, 'Sweden', 1391, 42, 1391, 244)\n(21, 'Australia', 695, 21, 695, 202)\n(64, 'Poland', 2090, 64, 2090, 179)\n(56, 'Denmark', 1855, 56, 1855, 172)\n(3, 'Belgium', 16, 3, 16, 169)\n(41, 'Spain', 1390, 41, 1390, 161)\n(119, 'Argentina', 440, 119, 440, 149)\n(63, 'Italy', 2087, 63, 2087, 138)\n"
                }
            ],
            "source": "with engine.connect() as con:\n    \n    rs = con.execute(\"\"\"SELECT invoices.InvoiceId as InvoId,\n        invoices.BillingCountry as country,\n        \n        invoice_items.TrackId as invtracId,\n        invoice_items.InvoiceId as invId,\n        \n        \n        tracks.TrackId as tracId,\n        SUM(tracks.Milliseconds)/(60*1000) as time\n        \n    FROM invoices INNER JOIN invoice_items on InvoId = invId\n    INNER JOIN tracks on invtracId = tracId\n    GROUP BY country\n    ORDER BY time DESC;\"\"\")\n    \n    for row in rs:\n        print(row)\n        \ncon.close()"
        },
        {
            "cell_type": "code",
            "execution_count": 27,
            "metadata": {},
            "outputs": [],
            "source": "import pandas as pd\n\ndf = pd.read_sql_query(\"\"\"SELECT invoices.InvoiceId as InvoId,\n        invoices.BillingCountry as country,\n        \n        invoice_items.TrackId as invtracId,\n        invoice_items.InvoiceId as invId,\n        \n        \n        tracks.TrackId as tracId,\n        SUM(tracks.Milliseconds)/(60*1000) as time\n        \n    FROM invoices INNER JOIN invoice_items on InvoId = invId\n    INNER JOIN tracks on invtracId = tracId\n    GROUP BY country\n    ORDER BY time DESC;\"\"\", con = engine.connect())"
        },
        {
            "cell_type": "code",
            "execution_count": 28,
            "metadata": {},
            "outputs": [
                {
                    "data": {
                        "text/html": "<div>\n<style scoped>\n    .dataframe tbody tr th:only-of-type {\n        vertical-align: middle;\n    }\n\n    .dataframe tbody tr th {\n        vertical-align: top;\n    }\n\n    .dataframe thead th {\n        text-align: right;\n    }\n</style>\n<table border=\"1\" class=\"dataframe\">\n  <thead>\n    <tr style=\"text-align: right;\">\n      <th></th>\n      <th>InvoId</th>\n      <th>country</th>\n      <th>invtracId</th>\n      <th>invId</th>\n      <th>tracId</th>\n      <th>time</th>\n    </tr>\n  </thead>\n  <tbody>\n    <tr>\n      <th>0</th>\n      <td>5</td>\n      <td>USA</td>\n      <td>99</td>\n      <td>5</td>\n      <td>99</td>\n      <td>3277</td>\n    </tr>\n    <tr>\n      <th>1</th>\n      <td>4</td>\n      <td>Canada</td>\n      <td>42</td>\n      <td>4</td>\n      <td>42</td>\n      <td>1438</td>\n    </tr>\n    <tr>\n      <th>2</th>\n      <td>8</td>\n      <td>France</td>\n      <td>234</td>\n      <td>8</td>\n      <td>234</td>\n      <td>1168</td>\n    </tr>\n    <tr>\n      <th>3</th>\n      <td>1</td>\n      <td>Germany</td>\n      <td>2</td>\n      <td>1</td>\n      <td>2</td>\n      <td>914</td>\n    </tr>\n    <tr>\n      <th>4</th>\n      <td>25</td>\n      <td>Brazil</td>\n      <td>738</td>\n      <td>25</td>\n      <td>738</td>\n      <td>881</td>\n    </tr>\n  </tbody>\n</table>\n</div>",
                        "text/plain": "   InvoId  country  invtracId  invId  tracId  time\n0       5      USA         99      5      99  3277\n1       4   Canada         42      4      42  1438\n2       8   France        234      8     234  1168\n3       1  Germany          2      1       2   914\n4      25   Brazil        738     25     738   881"
                    },
                    "execution_count": 28,
                    "metadata": {},
                    "output_type": "execute_result"
                }
            ],
            "source": "df.head()"
        },
        {
            "cell_type": "code",
            "execution_count": null,
            "metadata": {},
            "outputs": [],
            "source": ""
        }
    ],
    "metadata": {
        "kernelspec": {
            "display_name": "Python 3",
            "language": "python",
            "name": "python3"
        },
        "language_info": {
            "codemirror_mode": {
                "name": "ipython",
                "version": 3
            },
            "file_extension": ".py",
            "mimetype": "text/x-python",
            "name": "python",
            "nbconvert_exporter": "python",
            "pygments_lexer": "ipython3",
            "version": "3.7.3"
        }
    },
    "nbformat": 4,
    "nbformat_minor": 2
}