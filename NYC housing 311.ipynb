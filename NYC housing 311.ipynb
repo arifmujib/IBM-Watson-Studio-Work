{
    "cells": [
        {
            "cell_type": "markdown",
            "metadata": {},
            "source": "# <b> Problem Statement\n\nThe people of New Yorker use the 311 system to report complaints about the non-emergency problems to local authorities. Various agencies in New York are assigned these problems. The Department of Housing Preservation and Development of New York City is the agency that processes 311 complaints that are related to housing and buildings.\n\nIn the last few years, the number of 311 complaints coming to the Department of Housing Preservation and Development has increased significantly. Although these complaints are not necessarily urgent, the large volume of complaints and the sudden increase is impacting the overall efficiency of operations of the agency.\n\nTherefore, the Department of Housing Preservation and Development has approached your organization to help them manage the large volume of 311 complaints they are receiving every year.\n\nThe agency needs answers to several questions. The answers to those questions must be supported by data and analytics. \n## These are their  questions:\n\n### Which type of complaint should the Department of Housing Preservation and Development of New York City focus on first?\n###    Should the Department of Housing Preservation and Development of New York City focus on any particular set of boroughs, ZIP codes, or street (where the complaints are severe) for the specific type of complaints you identified in response to Question 1?\n###    Does the Complaint Type that you identified in response to question 1 have an obvious relationship with any particular characteristic or characteristics of the houses or buildings?\n###    Can a predictive model be built for a future prediction of the possibility of complaints of the type that you have identified in response to question 1?\n\n    \nYour organization has assigned you as the lead data scientist to provide the answers to these questions. You need to work on getting answers to them in this Capstone Project by following the standard approach of data science and machine learning."
        },
        {
            "cell_type": "markdown",
            "metadata": {},
            "source": "# Importing the necessary python libraries"
        },
        {
            "cell_type": "code",
            "execution_count": 1,
            "metadata": {},
            "outputs": [],
            "source": "import pandas as pd\nimport numpy as np\nimport os\n#from sodapy import Socrata"
        },
        {
            "cell_type": "markdown",
            "metadata": {},
            "source": "## Importing PLUTO data for Brooklyn, Bronx, Manhattan, Queens, and Staten Island"
        },
        {
            "cell_type": "markdown",
            "metadata": {},
            "source": "### Brooklyn PLUTO data"
        },
        {
            "cell_type": "code",
            "execution_count": 35,
            "metadata": {},
            "outputs": [
                {
                    "name": "stderr",
                    "output_type": "stream",
                    "text": "/opt/conda/envs/Python36/lib/python3.6/site-packages/IPython/core/interactiveshell.py:3020: DtypeWarning: Columns (19,20,22,23,24,25,26,64,65,80) have mixed types. Specify dtype option on import or set low_memory=False.\n  interactivity=interactivity, compiler=compiler, result=result)\n"
                },
                {
                    "data": {
                        "text/html": "<div>\n<style scoped>\n    .dataframe tbody tr th:only-of-type {\n        vertical-align: middle;\n    }\n\n    .dataframe tbody tr th {\n        vertical-align: top;\n    }\n\n    .dataframe thead th {\n        text-align: right;\n    }\n</style>\n<table border=\"1\" class=\"dataframe\">\n  <thead>\n    <tr style=\"text-align: right;\">\n      <th></th>\n      <th>Borough</th>\n      <th>Block</th>\n      <th>Lot</th>\n      <th>CD</th>\n      <th>CT2010</th>\n      <th>CB2010</th>\n      <th>SchoolDist</th>\n      <th>Council</th>\n      <th>ZipCode</th>\n      <th>FireComp</th>\n      <th>...</th>\n      <th>ZMCode</th>\n      <th>Sanborn</th>\n      <th>TaxMap</th>\n      <th>EDesigNum</th>\n      <th>APPBBL</th>\n      <th>APPDate</th>\n      <th>PLUTOMapID</th>\n      <th>FIRM07_FLAG</th>\n      <th>PFIRM15_FLAG</th>\n      <th>Version</th>\n    </tr>\n  </thead>\n  <tbody>\n    <tr>\n      <th>0</th>\n      <td>BK</td>\n      <td>1</td>\n      <td>1</td>\n      <td>302</td>\n      <td>21.0</td>\n      <td>NaN</td>\n      <td>13.0</td>\n      <td>33.0</td>\n      <td>11201.0</td>\n      <td>L118</td>\n      <td>...</td>\n      <td>NaN</td>\n      <td>302 007</td>\n      <td>30101.0</td>\n      <td>NaN</td>\n      <td>3.000010e+09</td>\n      <td>11/26/2013</td>\n      <td>1</td>\n      <td>1.0</td>\n      <td>1.0</td>\n      <td>18V1</td>\n    </tr>\n    <tr>\n      <th>1</th>\n      <td>BK</td>\n      <td>1</td>\n      <td>50</td>\n      <td>302</td>\n      <td>21.0</td>\n      <td>2000.0</td>\n      <td>13.0</td>\n      <td>33.0</td>\n      <td>11201.0</td>\n      <td>L118</td>\n      <td>...</td>\n      <td>NaN</td>\n      <td>302 007</td>\n      <td>30101.0</td>\n      <td>E-231</td>\n      <td>0.000000e+00</td>\n      <td>NaN</td>\n      <td>1</td>\n      <td>1.0</td>\n      <td>1.0</td>\n      <td>18V1</td>\n    </tr>\n    <tr>\n      <th>2</th>\n      <td>BK</td>\n      <td>1</td>\n      <td>7501</td>\n      <td>302</td>\n      <td>21.0</td>\n      <td>2000.0</td>\n      <td>13.0</td>\n      <td>33.0</td>\n      <td>11201.0</td>\n      <td>L118</td>\n      <td>...</td>\n      <td>NaN</td>\n      <td>302 007</td>\n      <td>30101.0</td>\n      <td>NaN</td>\n      <td>3.000010e+09</td>\n      <td>03/04/2016</td>\n      <td>1</td>\n      <td>1.0</td>\n      <td>1.0</td>\n      <td>18V1</td>\n    </tr>\n    <tr>\n      <th>3</th>\n      <td>BK</td>\n      <td>3</td>\n      <td>1</td>\n      <td>302</td>\n      <td>21.0</td>\n      <td>3002.0</td>\n      <td>13.0</td>\n      <td>33.0</td>\n      <td>11201.0</td>\n      <td>L118</td>\n      <td>...</td>\n      <td>NaN</td>\n      <td>302 007</td>\n      <td>30101.0</td>\n      <td>NaN</td>\n      <td>0.000000e+00</td>\n      <td>NaN</td>\n      <td>1</td>\n      <td>1.0</td>\n      <td>1.0</td>\n      <td>18V1</td>\n    </tr>\n    <tr>\n      <th>4</th>\n      <td>BK</td>\n      <td>3</td>\n      <td>5</td>\n      <td>302</td>\n      <td>21.0</td>\n      <td>NaN</td>\n      <td>13.0</td>\n      <td>33.0</td>\n      <td>11201.0</td>\n      <td>L118</td>\n      <td>...</td>\n      <td>NaN</td>\n      <td>302 007</td>\n      <td>30101.0</td>\n      <td>NaN</td>\n      <td>0.000000e+00</td>\n      <td>NaN</td>\n      <td>4</td>\n      <td>1.0</td>\n      <td>1.0</td>\n      <td>18V1</td>\n    </tr>\n  </tbody>\n</table>\n<p>5 rows \u00d7 87 columns</p>\n</div>",
                        "text/plain": "  Borough  Block   Lot   CD  CT2010  CB2010  SchoolDist  Council  ZipCode  \\\n0      BK      1     1  302    21.0     NaN        13.0     33.0  11201.0   \n1      BK      1    50  302    21.0  2000.0        13.0     33.0  11201.0   \n2      BK      1  7501  302    21.0  2000.0        13.0     33.0  11201.0   \n3      BK      3     1  302    21.0  3002.0        13.0     33.0  11201.0   \n4      BK      3     5  302    21.0     NaN        13.0     33.0  11201.0   \n\n  FireComp  ...  ZMCode  Sanborn   TaxMap  EDesigNum        APPBBL  \\\n0     L118  ...     NaN  302 007  30101.0        NaN  3.000010e+09   \n1     L118  ...     NaN  302 007  30101.0      E-231  0.000000e+00   \n2     L118  ...     NaN  302 007  30101.0        NaN  3.000010e+09   \n3     L118  ...     NaN  302 007  30101.0        NaN  0.000000e+00   \n4     L118  ...     NaN  302 007  30101.0        NaN  0.000000e+00   \n\n      APPDate PLUTOMapID FIRM07_FLAG PFIRM15_FLAG Version  \n0  11/26/2013          1         1.0          1.0    18V1  \n1         NaN          1         1.0          1.0    18V1  \n2  03/04/2016          1         1.0          1.0    18V1  \n3         NaN          1         1.0          1.0    18V1  \n4         NaN          4         1.0          1.0    18V1  \n\n[5 rows x 87 columns]"
                    },
                    "execution_count": 35,
                    "metadata": {},
                    "output_type": "execute_result"
                }
            ],
            "source": "# The code was removed by Watson Studio for sharing."
        },
        {
            "cell_type": "markdown",
            "metadata": {},
            "source": "### Bronx PLUTO data"
        },
        {
            "cell_type": "code",
            "execution_count": 36,
            "metadata": {},
            "outputs": [
                {
                    "name": "stderr",
                    "output_type": "stream",
                    "text": "/opt/conda/envs/Python36/lib/python3.6/site-packages/IPython/core/interactiveshell.py:3020: DtypeWarning: Columns (19,20,22,23,64,65,80) have mixed types. Specify dtype option on import or set low_memory=False.\n  interactivity=interactivity, compiler=compiler, result=result)\n"
                },
                {
                    "data": {
                        "text/html": "<div>\n<style scoped>\n    .dataframe tbody tr th:only-of-type {\n        vertical-align: middle;\n    }\n\n    .dataframe tbody tr th {\n        vertical-align: top;\n    }\n\n    .dataframe thead th {\n        text-align: right;\n    }\n</style>\n<table border=\"1\" class=\"dataframe\">\n  <thead>\n    <tr style=\"text-align: right;\">\n      <th></th>\n      <th>Borough</th>\n      <th>Block</th>\n      <th>Lot</th>\n      <th>CD</th>\n      <th>CT2010</th>\n      <th>CB2010</th>\n      <th>SchoolDist</th>\n      <th>Council</th>\n      <th>ZipCode</th>\n      <th>FireComp</th>\n      <th>...</th>\n      <th>ZMCode</th>\n      <th>Sanborn</th>\n      <th>TaxMap</th>\n      <th>EDesigNum</th>\n      <th>APPBBL</th>\n      <th>APPDate</th>\n      <th>PLUTOMapID</th>\n      <th>FIRM07_FLAG</th>\n      <th>PFIRM15_FLAG</th>\n      <th>Version</th>\n    </tr>\n  </thead>\n  <tbody>\n    <tr>\n      <th>0</th>\n      <td>BX</td>\n      <td>2260</td>\n      <td>1</td>\n      <td>201</td>\n      <td>19.0</td>\n      <td>1022.0</td>\n      <td>7.0</td>\n      <td>8.0</td>\n      <td>10454.0</td>\n      <td>L029</td>\n      <td>...</td>\n      <td>NaN</td>\n      <td>209S016</td>\n      <td>20901.0</td>\n      <td>E-143</td>\n      <td>0.0</td>\n      <td>NaN</td>\n      <td>1</td>\n      <td>NaN</td>\n      <td>NaN</td>\n      <td>18V1</td>\n    </tr>\n    <tr>\n      <th>1</th>\n      <td>BX</td>\n      <td>2260</td>\n      <td>4</td>\n      <td>201</td>\n      <td>19.0</td>\n      <td>1022.0</td>\n      <td>7.0</td>\n      <td>8.0</td>\n      <td>10454.0</td>\n      <td>L029</td>\n      <td>...</td>\n      <td>NaN</td>\n      <td>209S016</td>\n      <td>20901.0</td>\n      <td>E-143</td>\n      <td>0.0</td>\n      <td>NaN</td>\n      <td>1</td>\n      <td>NaN</td>\n      <td>NaN</td>\n      <td>18V1</td>\n    </tr>\n    <tr>\n      <th>2</th>\n      <td>BX</td>\n      <td>2260</td>\n      <td>10</td>\n      <td>201</td>\n      <td>19.0</td>\n      <td>1022.0</td>\n      <td>7.0</td>\n      <td>8.0</td>\n      <td>10454.0</td>\n      <td>L029</td>\n      <td>...</td>\n      <td>NaN</td>\n      <td>209S016</td>\n      <td>20901.0</td>\n      <td>E-143</td>\n      <td>0.0</td>\n      <td>NaN</td>\n      <td>1</td>\n      <td>NaN</td>\n      <td>NaN</td>\n      <td>18V1</td>\n    </tr>\n    <tr>\n      <th>3</th>\n      <td>BX</td>\n      <td>2260</td>\n      <td>17</td>\n      <td>201</td>\n      <td>19.0</td>\n      <td>1022.0</td>\n      <td>7.0</td>\n      <td>8.0</td>\n      <td>10454.0</td>\n      <td>L029</td>\n      <td>...</td>\n      <td>NaN</td>\n      <td>209S016</td>\n      <td>20901.0</td>\n      <td>E-143</td>\n      <td>0.0</td>\n      <td>NaN</td>\n      <td>1</td>\n      <td>NaN</td>\n      <td>NaN</td>\n      <td>18V1</td>\n    </tr>\n    <tr>\n      <th>4</th>\n      <td>BX</td>\n      <td>2260</td>\n      <td>18</td>\n      <td>201</td>\n      <td>19.0</td>\n      <td>1022.0</td>\n      <td>7.0</td>\n      <td>8.0</td>\n      <td>10454.0</td>\n      <td>L029</td>\n      <td>...</td>\n      <td>NaN</td>\n      <td>209S016</td>\n      <td>20901.0</td>\n      <td>E-143</td>\n      <td>0.0</td>\n      <td>NaN</td>\n      <td>1</td>\n      <td>NaN</td>\n      <td>NaN</td>\n      <td>18V1</td>\n    </tr>\n  </tbody>\n</table>\n<p>5 rows \u00d7 87 columns</p>\n</div>",
                        "text/plain": "  Borough  Block  Lot   CD  CT2010  CB2010  SchoolDist  Council  ZipCode  \\\n0      BX   2260    1  201    19.0  1022.0         7.0      8.0  10454.0   \n1      BX   2260    4  201    19.0  1022.0         7.0      8.0  10454.0   \n2      BX   2260   10  201    19.0  1022.0         7.0      8.0  10454.0   \n3      BX   2260   17  201    19.0  1022.0         7.0      8.0  10454.0   \n4      BX   2260   18  201    19.0  1022.0         7.0      8.0  10454.0   \n\n  FireComp  ...  ZMCode  Sanborn   TaxMap  EDesigNum  APPBBL APPDate  \\\n0     L029  ...     NaN  209S016  20901.0      E-143     0.0     NaN   \n1     L029  ...     NaN  209S016  20901.0      E-143     0.0     NaN   \n2     L029  ...     NaN  209S016  20901.0      E-143     0.0     NaN   \n3     L029  ...     NaN  209S016  20901.0      E-143     0.0     NaN   \n4     L029  ...     NaN  209S016  20901.0      E-143     0.0     NaN   \n\n  PLUTOMapID FIRM07_FLAG PFIRM15_FLAG Version  \n0          1         NaN          NaN    18V1  \n1          1         NaN          NaN    18V1  \n2          1         NaN          NaN    18V1  \n3          1         NaN          NaN    18V1  \n4          1         NaN          NaN    18V1  \n\n[5 rows x 87 columns]"
                    },
                    "execution_count": 36,
                    "metadata": {},
                    "output_type": "execute_result"
                }
            ],
            "source": "body = client_1e57117b9f404ba098ce646504561a71.get_object(Bucket='ibmdatasciencecapstoneproject-donotdelete-pr-ldxtiwxezyt0jo',Key='BX_18v1.csv')['Body']\n# add missing __iter__ method, so pandas accepts body as file-like object\nif not hasattr(body, \"__iter__\"): body.__iter__ = types.MethodType( __iter__, body )\n\ndf_pl_BX = pd.read_csv(body)\ndf_pl_BX.head()"
        },
        {
            "cell_type": "markdown",
            "metadata": {},
            "source": "### Manhattan PLUTO data"
        },
        {
            "cell_type": "code",
            "execution_count": 37,
            "metadata": {},
            "outputs": [
                {
                    "name": "stderr",
                    "output_type": "stream",
                    "text": "/opt/conda/envs/Python36/lib/python3.6/site-packages/IPython/core/interactiveshell.py:3020: DtypeWarning: Columns (20,23,24,26,64) have mixed types. Specify dtype option on import or set low_memory=False.\n  interactivity=interactivity, compiler=compiler, result=result)\n"
                },
                {
                    "data": {
                        "text/html": "<div>\n<style scoped>\n    .dataframe tbody tr th:only-of-type {\n        vertical-align: middle;\n    }\n\n    .dataframe tbody tr th {\n        vertical-align: top;\n    }\n\n    .dataframe thead th {\n        text-align: right;\n    }\n</style>\n<table border=\"1\" class=\"dataframe\">\n  <thead>\n    <tr style=\"text-align: right;\">\n      <th></th>\n      <th>Borough</th>\n      <th>Block</th>\n      <th>Lot</th>\n      <th>CD</th>\n      <th>CT2010</th>\n      <th>CB2010</th>\n      <th>SchoolDist</th>\n      <th>Council</th>\n      <th>ZipCode</th>\n      <th>FireComp</th>\n      <th>...</th>\n      <th>ZMCode</th>\n      <th>Sanborn</th>\n      <th>TaxMap</th>\n      <th>EDesigNum</th>\n      <th>APPBBL</th>\n      <th>APPDate</th>\n      <th>PLUTOMapID</th>\n      <th>FIRM07_Flag</th>\n      <th>PFIRM15_Flag</th>\n      <th>Version</th>\n    </tr>\n  </thead>\n  <tbody>\n    <tr>\n      <th>0</th>\n      <td>MN</td>\n      <td>1</td>\n      <td>10</td>\n      <td>101</td>\n      <td>5.0</td>\n      <td>1011.0</td>\n      <td>2.0</td>\n      <td>1.0</td>\n      <td>10004.0</td>\n      <td>E007</td>\n      <td>...</td>\n      <td>Y</td>\n      <td>199 999</td>\n      <td>10101.0</td>\n      <td>NaN</td>\n      <td>0.0</td>\n      <td>NaN</td>\n      <td>1</td>\n      <td>1.0</td>\n      <td>1.0</td>\n      <td>18V1</td>\n    </tr>\n    <tr>\n      <th>1</th>\n      <td>MN</td>\n      <td>1</td>\n      <td>101</td>\n      <td>101</td>\n      <td>1.0</td>\n      <td>1001.0</td>\n      <td>2.0</td>\n      <td>1.0</td>\n      <td>10004.0</td>\n      <td>E007</td>\n      <td>...</td>\n      <td>Y</td>\n      <td>199 999</td>\n      <td>10101.0</td>\n      <td>NaN</td>\n      <td>0.0</td>\n      <td>NaN</td>\n      <td>1</td>\n      <td>NaN</td>\n      <td>1.0</td>\n      <td>18V1</td>\n    </tr>\n    <tr>\n      <th>2</th>\n      <td>MN</td>\n      <td>1</td>\n      <td>201</td>\n      <td>101</td>\n      <td>1.0</td>\n      <td>1000.0</td>\n      <td>2.0</td>\n      <td>1.0</td>\n      <td>10004.0</td>\n      <td>E007</td>\n      <td>...</td>\n      <td>NaN</td>\n      <td>199 999</td>\n      <td>10101.0</td>\n      <td>NaN</td>\n      <td>0.0</td>\n      <td>NaN</td>\n      <td>1</td>\n      <td>NaN</td>\n      <td>1.0</td>\n      <td>18V1</td>\n    </tr>\n    <tr>\n      <th>3</th>\n      <td>MN</td>\n      <td>1</td>\n      <td>301</td>\n      <td>101</td>\n      <td>NaN</td>\n      <td>NaN</td>\n      <td>2.0</td>\n      <td>1.0</td>\n      <td>10004.0</td>\n      <td>E007</td>\n      <td>...</td>\n      <td>NaN</td>\n      <td>199 999</td>\n      <td>10101.0</td>\n      <td>NaN</td>\n      <td>0.0</td>\n      <td>NaN</td>\n      <td>4</td>\n      <td>1.0</td>\n      <td>1.0</td>\n      <td>18V1</td>\n    </tr>\n    <tr>\n      <th>4</th>\n      <td>MN</td>\n      <td>1</td>\n      <td>401</td>\n      <td>101</td>\n      <td>NaN</td>\n      <td>NaN</td>\n      <td>2.0</td>\n      <td>1.0</td>\n      <td>10004.0</td>\n      <td>E007</td>\n      <td>...</td>\n      <td>NaN</td>\n      <td>1 99 999</td>\n      <td>10101.0</td>\n      <td>NaN</td>\n      <td>0.0</td>\n      <td>NaN</td>\n      <td>4</td>\n      <td>1.0</td>\n      <td>1.0</td>\n      <td>18V1</td>\n    </tr>\n  </tbody>\n</table>\n<p>5 rows \u00d7 87 columns</p>\n</div>",
                        "text/plain": "  Borough  Block  Lot   CD  CT2010  CB2010  SchoolDist  Council  ZipCode  \\\n0      MN      1   10  101     5.0  1011.0         2.0      1.0  10004.0   \n1      MN      1  101  101     1.0  1001.0         2.0      1.0  10004.0   \n2      MN      1  201  101     1.0  1000.0         2.0      1.0  10004.0   \n3      MN      1  301  101     NaN     NaN         2.0      1.0  10004.0   \n4      MN      1  401  101     NaN     NaN         2.0      1.0  10004.0   \n\n  FireComp  ...  ZMCode   Sanborn   TaxMap  EDesigNum  APPBBL APPDate  \\\n0     E007  ...       Y   199 999  10101.0        NaN     0.0     NaN   \n1     E007  ...       Y   199 999  10101.0        NaN     0.0     NaN   \n2     E007  ...     NaN   199 999  10101.0        NaN     0.0     NaN   \n3     E007  ...     NaN   199 999  10101.0        NaN     0.0     NaN   \n4     E007  ...     NaN  1 99 999  10101.0        NaN     0.0     NaN   \n\n  PLUTOMapID FIRM07_Flag PFIRM15_Flag Version  \n0          1         1.0          1.0    18V1  \n1          1         NaN          1.0    18V1  \n2          1         NaN          1.0    18V1  \n3          4         1.0          1.0    18V1  \n4          4         1.0          1.0    18V1  \n\n[5 rows x 87 columns]"
                    },
                    "execution_count": 37,
                    "metadata": {},
                    "output_type": "execute_result"
                }
            ],
            "source": "body = client_1e57117b9f404ba098ce646504561a71.get_object(Bucket='ibmdatasciencecapstoneproject-donotdelete-pr-ldxtiwxezyt0jo',Key='MN_18v1.csv')['Body']\n# add missing __iter__ method, so pandas accepts body as file-like object\nif not hasattr(body, \"__iter__\"): body.__iter__ = types.MethodType( __iter__, body )\n\ndf_pl_MN = pd.read_csv(body)\ndf_pl_MN.head()"
        },
        {
            "cell_type": "markdown",
            "metadata": {},
            "source": "### Queens PLUTO data"
        },
        {
            "cell_type": "code",
            "execution_count": 38,
            "metadata": {},
            "outputs": [
                {
                    "name": "stderr",
                    "output_type": "stream",
                    "text": "/opt/conda/envs/Python36/lib/python3.6/site-packages/IPython/core/interactiveshell.py:3020: DtypeWarning: Columns (19,20,22,23,64,65,77) have mixed types. Specify dtype option on import or set low_memory=False.\n  interactivity=interactivity, compiler=compiler, result=result)\n"
                },
                {
                    "data": {
                        "text/html": "<div>\n<style scoped>\n    .dataframe tbody tr th:only-of-type {\n        vertical-align: middle;\n    }\n\n    .dataframe tbody tr th {\n        vertical-align: top;\n    }\n\n    .dataframe thead th {\n        text-align: right;\n    }\n</style>\n<table border=\"1\" class=\"dataframe\">\n  <thead>\n    <tr style=\"text-align: right;\">\n      <th></th>\n      <th>Borough</th>\n      <th>Block</th>\n      <th>Lot</th>\n      <th>CD</th>\n      <th>CT2010</th>\n      <th>CB2010</th>\n      <th>SchoolDist</th>\n      <th>Council</th>\n      <th>ZipCode</th>\n      <th>FireComp</th>\n      <th>...</th>\n      <th>ZMCode</th>\n      <th>Sanborn</th>\n      <th>TaxMap</th>\n      <th>EDesigNum</th>\n      <th>APPBBL</th>\n      <th>APPDate</th>\n      <th>PLUTOMapID</th>\n      <th>FIRM07_FLAG</th>\n      <th>PFIRM15_FLAG</th>\n      <th>Version</th>\n    </tr>\n  </thead>\n  <tbody>\n    <tr>\n      <th>0</th>\n      <td>QN</td>\n      <td>6</td>\n      <td>1</td>\n      <td>402</td>\n      <td>1.0</td>\n      <td>NaN</td>\n      <td>30.0</td>\n      <td>26.0</td>\n      <td>11101.0</td>\n      <td>L115</td>\n      <td>...</td>\n      <td>Y</td>\n      <td>401 011</td>\n      <td>40101.0</td>\n      <td>NaN</td>\n      <td>4.000060e+09</td>\n      <td>09/20/2013</td>\n      <td>1</td>\n      <td>1.0</td>\n      <td>1.0</td>\n      <td>18V1</td>\n    </tr>\n    <tr>\n      <th>1</th>\n      <td>QN</td>\n      <td>6</td>\n      <td>3</td>\n      <td>402</td>\n      <td>1.0</td>\n      <td>1015.0</td>\n      <td>30.0</td>\n      <td>26.0</td>\n      <td>11101.0</td>\n      <td>L115</td>\n      <td>...</td>\n      <td>NaN</td>\n      <td>401 011</td>\n      <td>40101.0</td>\n      <td>NaN</td>\n      <td>0.000000e+00</td>\n      <td>NaN</td>\n      <td>1</td>\n      <td>1.0</td>\n      <td>1.0</td>\n      <td>18V1</td>\n    </tr>\n    <tr>\n      <th>2</th>\n      <td>QN</td>\n      <td>6</td>\n      <td>8</td>\n      <td>402</td>\n      <td>1.0</td>\n      <td>1011.0</td>\n      <td>30.0</td>\n      <td>26.0</td>\n      <td>11101.0</td>\n      <td>L115</td>\n      <td>...</td>\n      <td>NaN</td>\n      <td>401 011</td>\n      <td>40101.0</td>\n      <td>NaN</td>\n      <td>4.000060e+09</td>\n      <td>08/07/2013</td>\n      <td>1</td>\n      <td>1.0</td>\n      <td>1.0</td>\n      <td>18V1</td>\n    </tr>\n    <tr>\n      <th>3</th>\n      <td>QN</td>\n      <td>6</td>\n      <td>20</td>\n      <td>402</td>\n      <td>1.0</td>\n      <td>NaN</td>\n      <td>30.0</td>\n      <td>26.0</td>\n      <td>11101.0</td>\n      <td>L115</td>\n      <td>...</td>\n      <td>NaN</td>\n      <td>401 011</td>\n      <td>40101.0</td>\n      <td>NaN</td>\n      <td>4.000060e+09</td>\n      <td>09/20/2013</td>\n      <td>1</td>\n      <td>1.0</td>\n      <td>1.0</td>\n      <td>18V1</td>\n    </tr>\n    <tr>\n      <th>4</th>\n      <td>QN</td>\n      <td>6</td>\n      <td>30</td>\n      <td>402</td>\n      <td>1.0</td>\n      <td>NaN</td>\n      <td>30.0</td>\n      <td>26.0</td>\n      <td>11101.0</td>\n      <td>L115</td>\n      <td>...</td>\n      <td>NaN</td>\n      <td>401 011</td>\n      <td>40101.0</td>\n      <td>NaN</td>\n      <td>4.000060e+09</td>\n      <td>09/08/2017</td>\n      <td>1</td>\n      <td>1.0</td>\n      <td>1.0</td>\n      <td>18V1</td>\n    </tr>\n  </tbody>\n</table>\n<p>5 rows \u00d7 87 columns</p>\n</div>",
                        "text/plain": "  Borough  Block  Lot   CD  CT2010  CB2010  SchoolDist  Council  ZipCode  \\\n0      QN      6    1  402     1.0     NaN        30.0     26.0  11101.0   \n1      QN      6    3  402     1.0  1015.0        30.0     26.0  11101.0   \n2      QN      6    8  402     1.0  1011.0        30.0     26.0  11101.0   \n3      QN      6   20  402     1.0     NaN        30.0     26.0  11101.0   \n4      QN      6   30  402     1.0     NaN        30.0     26.0  11101.0   \n\n  FireComp  ...  ZMCode  Sanborn   TaxMap  EDesigNum        APPBBL  \\\n0     L115  ...       Y  401 011  40101.0        NaN  4.000060e+09   \n1     L115  ...     NaN  401 011  40101.0        NaN  0.000000e+00   \n2     L115  ...     NaN  401 011  40101.0        NaN  4.000060e+09   \n3     L115  ...     NaN  401 011  40101.0        NaN  4.000060e+09   \n4     L115  ...     NaN  401 011  40101.0        NaN  4.000060e+09   \n\n      APPDate PLUTOMapID FIRM07_FLAG PFIRM15_FLAG Version  \n0  09/20/2013          1         1.0          1.0    18V1  \n1         NaN          1         1.0          1.0    18V1  \n2  08/07/2013          1         1.0          1.0    18V1  \n3  09/20/2013          1         1.0          1.0    18V1  \n4  09/08/2017          1         1.0          1.0    18V1  \n\n[5 rows x 87 columns]"
                    },
                    "execution_count": 38,
                    "metadata": {},
                    "output_type": "execute_result"
                }
            ],
            "source": "body = client_1e57117b9f404ba098ce646504561a71.get_object(Bucket='ibmdatasciencecapstoneproject-donotdelete-pr-ldxtiwxezyt0jo',Key='QN_18v1.csv')['Body']\n# add missing __iter__ method, so pandas accepts body as file-like object\nif not hasattr(body, \"__iter__\"): body.__iter__ = types.MethodType( __iter__, body )\n\ndf_pl_QN = pd.read_csv(body)\ndf_pl_QN.head()"
        },
        {
            "cell_type": "markdown",
            "metadata": {},
            "source": "### Staten Island PLUTO data"
        },
        {
            "cell_type": "code",
            "execution_count": 6,
            "metadata": {},
            "outputs": [
                {
                    "name": "stderr",
                    "output_type": "stream",
                    "text": "/opt/conda/envs/Python36/lib/python3.6/site-packages/IPython/core/interactiveshell.py:3020: DtypeWarning: Columns (19,20,22,23,24,64,65,80) have mixed types. Specify dtype option on import or set low_memory=False.\n  interactivity=interactivity, compiler=compiler, result=result)\n"
                },
                {
                    "data": {
                        "text/html": "<div>\n<style scoped>\n    .dataframe tbody tr th:only-of-type {\n        vertical-align: middle;\n    }\n\n    .dataframe tbody tr th {\n        vertical-align: top;\n    }\n\n    .dataframe thead th {\n        text-align: right;\n    }\n</style>\n<table border=\"1\" class=\"dataframe\">\n  <thead>\n    <tr style=\"text-align: right;\">\n      <th></th>\n      <th>Borough</th>\n      <th>Block</th>\n      <th>Lot</th>\n      <th>CD</th>\n      <th>CT2010</th>\n      <th>CB2010</th>\n      <th>SchoolDist</th>\n      <th>Council</th>\n      <th>ZipCode</th>\n      <th>FireComp</th>\n      <th>...</th>\n      <th>ZMCode</th>\n      <th>Sanborn</th>\n      <th>TaxMap</th>\n      <th>EDesigNum</th>\n      <th>APPBBL</th>\n      <th>APPDate</th>\n      <th>PLUTOMapID</th>\n      <th>FIRM07_FLAG</th>\n      <th>PFIRM15_FLAG</th>\n      <th>Version</th>\n    </tr>\n  </thead>\n  <tbody>\n    <tr>\n      <th>0</th>\n      <td>SI</td>\n      <td>1</td>\n      <td>10</td>\n      <td>501</td>\n      <td>3.0</td>\n      <td>2000.0</td>\n      <td>31.0</td>\n      <td>49.0</td>\n      <td>10301.0</td>\n      <td>L078</td>\n      <td>...</td>\n      <td>NaN</td>\n      <td>501 017</td>\n      <td>50101.0</td>\n      <td>NaN</td>\n      <td>0.0</td>\n      <td>NaN</td>\n      <td>1</td>\n      <td>NaN</td>\n      <td>NaN</td>\n      <td>18V1</td>\n    </tr>\n    <tr>\n      <th>1</th>\n      <td>SI</td>\n      <td>1</td>\n      <td>17</td>\n      <td>501</td>\n      <td>3.0</td>\n      <td>NaN</td>\n      <td>31.0</td>\n      <td>49.0</td>\n      <td>10301.0</td>\n      <td>L078</td>\n      <td>...</td>\n      <td>NaN</td>\n      <td>501 017</td>\n      <td>50101.0</td>\n      <td>NaN</td>\n      <td>0.0</td>\n      <td>NaN</td>\n      <td>1</td>\n      <td>NaN</td>\n      <td>NaN</td>\n      <td>18V1</td>\n    </tr>\n    <tr>\n      <th>2</th>\n      <td>SI</td>\n      <td>1</td>\n      <td>18</td>\n      <td>501</td>\n      <td>3.0</td>\n      <td>NaN</td>\n      <td>31.0</td>\n      <td>49.0</td>\n      <td>10301.0</td>\n      <td>L078</td>\n      <td>...</td>\n      <td>NaN</td>\n      <td>501 017</td>\n      <td>50101.0</td>\n      <td>NaN</td>\n      <td>0.0</td>\n      <td>NaN</td>\n      <td>1</td>\n      <td>NaN</td>\n      <td>NaN</td>\n      <td>18V1</td>\n    </tr>\n    <tr>\n      <th>3</th>\n      <td>SI</td>\n      <td>1</td>\n      <td>19</td>\n      <td>501</td>\n      <td>3.0</td>\n      <td>NaN</td>\n      <td>31.0</td>\n      <td>49.0</td>\n      <td>10301.0</td>\n      <td>L078</td>\n      <td>...</td>\n      <td>NaN</td>\n      <td>501 017</td>\n      <td>50101.0</td>\n      <td>NaN</td>\n      <td>0.0</td>\n      <td>NaN</td>\n      <td>1</td>\n      <td>NaN</td>\n      <td>NaN</td>\n      <td>18V1</td>\n    </tr>\n    <tr>\n      <th>4</th>\n      <td>SI</td>\n      <td>1</td>\n      <td>21</td>\n      <td>501</td>\n      <td>3.0</td>\n      <td>NaN</td>\n      <td>31.0</td>\n      <td>49.0</td>\n      <td>10301.0</td>\n      <td>L078</td>\n      <td>...</td>\n      <td>NaN</td>\n      <td>501 017</td>\n      <td>50101.0</td>\n      <td>NaN</td>\n      <td>0.0</td>\n      <td>NaN</td>\n      <td>1</td>\n      <td>NaN</td>\n      <td>NaN</td>\n      <td>18V1</td>\n    </tr>\n  </tbody>\n</table>\n<p>5 rows \u00d7 87 columns</p>\n</div>",
                        "text/plain": "  Borough  Block  Lot   CD  CT2010  CB2010  SchoolDist  Council  ZipCode  \\\n0      SI      1   10  501     3.0  2000.0        31.0     49.0  10301.0   \n1      SI      1   17  501     3.0     NaN        31.0     49.0  10301.0   \n2      SI      1   18  501     3.0     NaN        31.0     49.0  10301.0   \n3      SI      1   19  501     3.0     NaN        31.0     49.0  10301.0   \n4      SI      1   21  501     3.0     NaN        31.0     49.0  10301.0   \n\n  FireComp  ...  ZMCode  Sanborn   TaxMap  EDesigNum  APPBBL APPDate  \\\n0     L078  ...     NaN  501 017  50101.0        NaN     0.0     NaN   \n1     L078  ...     NaN  501 017  50101.0        NaN     0.0     NaN   \n2     L078  ...     NaN  501 017  50101.0        NaN     0.0     NaN   \n3     L078  ...     NaN  501 017  50101.0        NaN     0.0     NaN   \n4     L078  ...     NaN  501 017  50101.0        NaN     0.0     NaN   \n\n  PLUTOMapID FIRM07_FLAG PFIRM15_FLAG Version  \n0          1         NaN          NaN    18V1  \n1          1         NaN          NaN    18V1  \n2          1         NaN          NaN    18V1  \n3          1         NaN          NaN    18V1  \n4          1         NaN          NaN    18V1  \n\n[5 rows x 87 columns]"
                    },
                    "execution_count": 6,
                    "metadata": {},
                    "output_type": "execute_result"
                }
            ],
            "source": "body = client_1e57117b9f404ba098ce646504561a71.get_object(Bucket='ibmdatasciencecapstoneproject-donotdelete-pr-ldxtiwxezyt0jo',Key='SI_18v1.csv')['Body']\n# add missing __iter__ method, so pandas accepts body as file-like object\nif not hasattr(body, \"__iter__\"): body.__iter__ = types.MethodType( __iter__, body )\n\ndf_data_5 = pd.read_csv(body)\ndf_data_5.head()"
        },
        {
            "cell_type": "markdown",
            "metadata": {},
            "source": "Create a socrata object to handle the API"
        },
        {
            "cell_type": "markdown",
            "metadata": {},
            "source": "### NYC 311 calls for Department of Housing Preservation and Development data"
        },
        {
            "cell_type": "code",
            "execution_count": 7,
            "metadata": {},
            "outputs": [
                {
                    "data": {
                        "text/html": "<div>\n<style scoped>\n    .dataframe tbody tr th:only-of-type {\n        vertical-align: middle;\n    }\n\n    .dataframe tbody tr th {\n        vertical-align: top;\n    }\n\n    .dataframe thead th {\n        text-align: right;\n    }\n</style>\n<table border=\"1\" class=\"dataframe\">\n  <thead>\n    <tr style=\"text-align: right;\">\n      <th></th>\n      <th>Unnamed: 0</th>\n      <th>Unique Key</th>\n      <th>Created Date</th>\n      <th>Closed Date</th>\n      <th>Complaint Type</th>\n      <th>Location Type</th>\n      <th>Incident Zip</th>\n      <th>Incident Address</th>\n      <th>Street Name</th>\n      <th>Address Type</th>\n      <th>City</th>\n      <th>Status</th>\n      <th>Resolution Description</th>\n      <th>Borough</th>\n      <th>Latitude</th>\n      <th>Longitude</th>\n    </tr>\n  </thead>\n  <tbody>\n    <tr>\n      <th>0</th>\n      <td>0</td>\n      <td>45531130</td>\n      <td>02/02/2020 06:09:17 AM</td>\n      <td>NaN</td>\n      <td>HEAT/HOT WATER</td>\n      <td>RESIDENTIAL BUILDING</td>\n      <td>10019.0</td>\n      <td>426 WEST   52 STREET</td>\n      <td>WEST   52 STREET</td>\n      <td>ADDRESS</td>\n      <td>NEW YORK</td>\n      <td>Open</td>\n      <td>The following complaint conditions are still o...</td>\n      <td>MANHATTAN</td>\n      <td>40.765132</td>\n      <td>-73.988993</td>\n    </tr>\n    <tr>\n      <th>1</th>\n      <td>1</td>\n      <td>45529784</td>\n      <td>02/02/2020 02:15:24 PM</td>\n      <td>NaN</td>\n      <td>UNSANITARY CONDITION</td>\n      <td>RESIDENTIAL BUILDING</td>\n      <td>11204.0</td>\n      <td>1751 67 STREET</td>\n      <td>67 STREET</td>\n      <td>ADDRESS</td>\n      <td>BROOKLYN</td>\n      <td>Open</td>\n      <td>The following complaint conditions are still o...</td>\n      <td>BROOKLYN</td>\n      <td>40.618484</td>\n      <td>-73.992673</td>\n    </tr>\n    <tr>\n      <th>2</th>\n      <td>2</td>\n      <td>45527528</td>\n      <td>02/02/2020 02:27:41 AM</td>\n      <td>NaN</td>\n      <td>HEAT/HOT WATER</td>\n      <td>RESIDENTIAL BUILDING</td>\n      <td>11372.0</td>\n      <td>87-15 37 AVENUE</td>\n      <td>37 AVENUE</td>\n      <td>ADDRESS</td>\n      <td>Jackson Heights</td>\n      <td>Open</td>\n      <td>The following complaint conditions are still o...</td>\n      <td>QUEENS</td>\n      <td>40.750269</td>\n      <td>-73.879432</td>\n    </tr>\n    <tr>\n      <th>3</th>\n      <td>3</td>\n      <td>45530329</td>\n      <td>02/02/2020 12:13:18 PM</td>\n      <td>NaN</td>\n      <td>HEAT/HOT WATER</td>\n      <td>RESIDENTIAL BUILDING</td>\n      <td>10458.0</td>\n      <td>2405 SOUTHERN BOULEVARD</td>\n      <td>SOUTHERN BOULEVARD</td>\n      <td>ADDRESS</td>\n      <td>BRONX</td>\n      <td>Open</td>\n      <td>The following complaint conditions are still o...</td>\n      <td>BRONX</td>\n      <td>40.853773</td>\n      <td>-73.881558</td>\n    </tr>\n    <tr>\n      <th>4</th>\n      <td>4</td>\n      <td>45528814</td>\n      <td>02/02/2020 01:59:44 PM</td>\n      <td>NaN</td>\n      <td>APPLIANCE</td>\n      <td>RESIDENTIAL BUILDING</td>\n      <td>11209.0</td>\n      <td>223 78 STREET</td>\n      <td>78 STREET</td>\n      <td>ADDRESS</td>\n      <td>BROOKLYN</td>\n      <td>Open</td>\n      <td>The following complaint conditions are still o...</td>\n      <td>BROOKLYN</td>\n      <td>40.629745</td>\n      <td>-74.030533</td>\n    </tr>\n  </tbody>\n</table>\n</div>",
                        "text/plain": "   Unnamed: 0  Unique Key            Created Date Closed Date  \\\n0           0    45531130  02/02/2020 06:09:17 AM         NaN   \n1           1    45529784  02/02/2020 02:15:24 PM         NaN   \n2           2    45527528  02/02/2020 02:27:41 AM         NaN   \n3           3    45530329  02/02/2020 12:13:18 PM         NaN   \n4           4    45528814  02/02/2020 01:59:44 PM         NaN   \n\n         Complaint Type         Location Type  Incident Zip  \\\n0        HEAT/HOT WATER  RESIDENTIAL BUILDING       10019.0   \n1  UNSANITARY CONDITION  RESIDENTIAL BUILDING       11204.0   \n2        HEAT/HOT WATER  RESIDENTIAL BUILDING       11372.0   \n3        HEAT/HOT WATER  RESIDENTIAL BUILDING       10458.0   \n4             APPLIANCE  RESIDENTIAL BUILDING       11209.0   \n\n          Incident Address         Street Name Address Type             City  \\\n0     426 WEST   52 STREET    WEST   52 STREET      ADDRESS         NEW YORK   \n1           1751 67 STREET           67 STREET      ADDRESS         BROOKLYN   \n2          87-15 37 AVENUE           37 AVENUE      ADDRESS  Jackson Heights   \n3  2405 SOUTHERN BOULEVARD  SOUTHERN BOULEVARD      ADDRESS            BRONX   \n4            223 78 STREET           78 STREET      ADDRESS         BROOKLYN   \n\n  Status                             Resolution Description    Borough  \\\n0   Open  The following complaint conditions are still o...  MANHATTAN   \n1   Open  The following complaint conditions are still o...   BROOKLYN   \n2   Open  The following complaint conditions are still o...     QUEENS   \n3   Open  The following complaint conditions are still o...      BRONX   \n4   Open  The following complaint conditions are still o...   BROOKLYN   \n\n    Latitude  Longitude  \n0  40.765132 -73.988993  \n1  40.618484 -73.992673  \n2  40.750269 -73.879432  \n3  40.853773 -73.881558  \n4  40.629745 -74.030533  "
                    },
                    "execution_count": 7,
                    "metadata": {},
                    "output_type": "execute_result"
                }
            ],
            "source": "#!wget -o NYC_HPD_data.csv https://s3-api.us-geo.objectstorage.softlayer.net/cf-courses-data/CognitiveClass/DS0702EN/datasets/311_Service_Requests_from_2010_to_Present_min.csv\ndf_hpd = pd.read_csv('https://s3-api.us-geo.objectstorage.softlayer.net/cf-courses-data/CognitiveClass/DS0702EN/datasets/311_Service_Requests_from_2010_to_Present_min.csv')\ndf_hpd.head()"
        },
        {
            "cell_type": "markdown",
            "metadata": {},
            "source": "## Let's find out what are the major complaints"
        },
        {
            "cell_type": "code",
            "execution_count": 47,
            "metadata": {},
            "outputs": [
                {
                    "data": {
                        "text/plain": "(30, 1)"
                    },
                    "execution_count": 47,
                    "metadata": {},
                    "output_type": "execute_result"
                }
            ],
            "source": "df_complain=df_hpd.groupby('Complaint Type')[['Unique Key']].count()\n#df_complain.sort_values('Unique Key')\n#df_hpd['Unique Key']\ndf_complain.shape"
        },
        {
            "cell_type": "markdown",
            "metadata": {},
            "source": "We don't need all of this. We will select only calls made for Department of Housing Preservation and Development. We also will need cases that hasn't been closed yet.\nWe are going to make a query and embed the query with the API request"
        },
        {
            "cell_type": "code",
            "execution_count": 49,
            "metadata": {},
            "outputs": [
                {
                    "data": {
                        "text/html": "<div>\n<style scoped>\n    .dataframe tbody tr th:only-of-type {\n        vertical-align: middle;\n    }\n\n    .dataframe tbody tr th {\n        vertical-align: top;\n    }\n\n    .dataframe thead th {\n        text-align: right;\n    }\n</style>\n<table border=\"1\" class=\"dataframe\">\n  <thead>\n    <tr style=\"text-align: right;\">\n      <th></th>\n      <th>Unique Key</th>\n    </tr>\n    <tr>\n      <th>Complaint Type</th>\n      <th></th>\n    </tr>\n  </thead>\n  <tbody>\n    <tr>\n      <th>HEAT/HOT WATER</th>\n      <td>1261574</td>\n    </tr>\n    <tr>\n      <th>HEATING</th>\n      <td>887850</td>\n    </tr>\n    <tr>\n      <th>PLUMBING</th>\n      <td>711130</td>\n    </tr>\n    <tr>\n      <th>GENERAL CONSTRUCTION</th>\n      <td>500863</td>\n    </tr>\n    <tr>\n      <th>UNSANITARY CONDITION</th>\n      <td>451643</td>\n    </tr>\n  </tbody>\n</table>\n</div>",
                        "text/plain": "                      Unique Key\nComplaint Type                  \nHEAT/HOT WATER           1261574\nHEATING                   887850\nPLUMBING                  711130\nGENERAL CONSTRUCTION      500863\nUNSANITARY CONDITION      451643"
                    },
                    "execution_count": 49,
                    "metadata": {},
                    "output_type": "execute_result"
                }
            ],
            "source": "df_complain.sort_values('Unique Key',ascending=False).head()"
        },
        {
            "cell_type": "markdown",
            "metadata": {},
            "source": "# The Major complaint is about Heat/Hot water\n    \n\n  ### The other major complaints are Heating, Plumbing, General Construction\n  \n  Are these somehow related? Because hot water and plumbing is related. Is some construction work in an area causing these?\n  To answer these, <b> let's look at <b>\n  \n \n# Which area has the most complaints?"
        },
        {
            "cell_type": "code",
            "execution_count": 51,
            "metadata": {},
            "outputs": [
                {
                    "data": {
                        "text/html": "<div>\n<style scoped>\n    .dataframe tbody tr th:only-of-type {\n        vertical-align: middle;\n    }\n\n    .dataframe tbody tr th {\n        vertical-align: top;\n    }\n\n    .dataframe thead th {\n        text-align: right;\n    }\n</style>\n<table border=\"1\" class=\"dataframe\">\n  <thead>\n    <tr style=\"text-align: right;\">\n      <th></th>\n      <th>Unique Key</th>\n    </tr>\n    <tr>\n      <th>Incident Zip</th>\n      <th></th>\n    </tr>\n  </thead>\n  <tbody>\n    <tr>\n      <th>11226.0</th>\n      <td>215709</td>\n    </tr>\n    <tr>\n      <th>10467.0</th>\n      <td>173911</td>\n    </tr>\n    <tr>\n      <th>10458.0</th>\n      <td>169485</td>\n    </tr>\n    <tr>\n      <th>10453.0</th>\n      <td>162532</td>\n    </tr>\n    <tr>\n      <th>10468.0</th>\n      <td>148213</td>\n    </tr>\n    <tr>\n      <th>10457.0</th>\n      <td>146199</td>\n    </tr>\n    <tr>\n      <th>10452.0</th>\n      <td>146016</td>\n    </tr>\n    <tr>\n      <th>10456.0</th>\n      <td>132748</td>\n    </tr>\n    <tr>\n      <th>10031.0</th>\n      <td>123853</td>\n    </tr>\n    <tr>\n      <th>11225.0</th>\n      <td>120913</td>\n    </tr>\n  </tbody>\n</table>\n</div>",
                        "text/plain": "              Unique Key\nIncident Zip            \n11226.0           215709\n10467.0           173911\n10458.0           169485\n10453.0           162532\n10468.0           148213\n10457.0           146199\n10452.0           146016\n10456.0           132748\n10031.0           123853\n11225.0           120913"
                    },
                    "execution_count": 51,
                    "metadata": {},
                    "output_type": "execute_result"
                }
            ],
            "source": "df_hpd.groupby('Incident Zip')[['Unique Key']].count().sort_values('Unique Key',ascending=False).head(10)"
        },
        {
            "cell_type": "markdown",
            "metadata": {},
            "source": "## It seems like the area with ZipCode 11226 has the most complaint. It is Flatbush, Brooklyn NY.\n\n### Another pattern is noticable is that 10467, 10458, 10453, 10468, 10457, 10452, and 10456 are very close by area and having very high number of complains. This is west Bronx area and near the Yankee Stadium.\n### Are these for some common reason?\n\n###Let's look at the top complaints zip first"
        },
        {
            "cell_type": "code",
            "execution_count": 50,
            "metadata": {},
            "outputs": [
                {
                    "data": {
                        "text/html": "<div>\n<style scoped>\n    .dataframe tbody tr th:only-of-type {\n        vertical-align: middle;\n    }\n\n    .dataframe tbody tr th {\n        vertical-align: top;\n    }\n\n    .dataframe thead th {\n        text-align: right;\n    }\n</style>\n<table border=\"1\" class=\"dataframe\">\n  <thead>\n    <tr style=\"text-align: right;\">\n      <th></th>\n      <th>Unique Key</th>\n    </tr>\n    <tr>\n      <th>Complaint Type</th>\n      <th></th>\n    </tr>\n  </thead>\n  <tbody>\n    <tr>\n      <th>HEAT/HOT WATER</th>\n      <td>41786</td>\n    </tr>\n    <tr>\n      <th>PLUMBING</th>\n      <td>28534</td>\n    </tr>\n    <tr>\n      <th>HEATING</th>\n      <td>27255</td>\n    </tr>\n    <tr>\n      <th>GENERAL CONSTRUCTION</th>\n      <td>19994</td>\n    </tr>\n    <tr>\n      <th>UNSANITARY CONDITION</th>\n      <td>16627</td>\n    </tr>\n    <tr>\n      <th>PAINT - PLASTER</th>\n      <td>15531</td>\n    </tr>\n    <tr>\n      <th>PAINT/PLASTER</th>\n      <td>14566</td>\n    </tr>\n    <tr>\n      <th>ELECTRIC</th>\n      <td>11060</td>\n    </tr>\n    <tr>\n      <th>NONCONST</th>\n      <td>9227</td>\n    </tr>\n    <tr>\n      <th>WATER LEAK</th>\n      <td>8560</td>\n    </tr>\n    <tr>\n      <th>DOOR/WINDOW</th>\n      <td>6617</td>\n    </tr>\n    <tr>\n      <th>FLOORING/STAIRS</th>\n      <td>5136</td>\n    </tr>\n    <tr>\n      <th>GENERAL</th>\n      <td>4709</td>\n    </tr>\n    <tr>\n      <th>APPLIANCE</th>\n      <td>4080</td>\n    </tr>\n    <tr>\n      <th>SAFETY</th>\n      <td>1213</td>\n    </tr>\n    <tr>\n      <th>ELEVATOR</th>\n      <td>332</td>\n    </tr>\n    <tr>\n      <th>OUTSIDE BUILDING</th>\n      <td>156</td>\n    </tr>\n    <tr>\n      <th>Unsanitary Condition</th>\n      <td>149</td>\n    </tr>\n    <tr>\n      <th>CONSTRUCTION</th>\n      <td>142</td>\n    </tr>\n    <tr>\n      <th>General</th>\n      <td>24</td>\n    </tr>\n    <tr>\n      <th>Safety</th>\n      <td>11</td>\n    </tr>\n  </tbody>\n</table>\n</div>",
                        "text/plain": "                      Unique Key\nComplaint Type                  \nHEAT/HOT WATER             41786\nPLUMBING                   28534\nHEATING                    27255\nGENERAL CONSTRUCTION       19994\nUNSANITARY CONDITION       16627\nPAINT - PLASTER            15531\nPAINT/PLASTER              14566\nELECTRIC                   11060\nNONCONST                    9227\nWATER LEAK                  8560\nDOOR/WINDOW                 6617\nFLOORING/STAIRS             5136\nGENERAL                     4709\nAPPLIANCE                   4080\nSAFETY                      1213\nELEVATOR                     332\nOUTSIDE BUILDING             156\nUnsanitary Condition         149\nCONSTRUCTION                 142\nGeneral                       24\nSafety                        11"
                    },
                    "execution_count": 50,
                    "metadata": {},
                    "output_type": "execute_result"
                }
            ],
            "source": "df_hpd[df_hpd['Incident Zip']==11226.0].groupby('Complaint Type')[['Unique Key']].count().sort_values('Unique Key',ascending=False)"
        },
        {
            "cell_type": "code",
            "execution_count": 48,
            "metadata": {},
            "outputs": [
                {
                    "data": {
                        "text/html": "<div>\n<style scoped>\n    .dataframe tbody tr th:only-of-type {\n        vertical-align: middle;\n    }\n\n    .dataframe tbody tr th {\n        vertical-align: top;\n    }\n\n    .dataframe thead th {\n        text-align: right;\n    }\n</style>\n<table border=\"1\" class=\"dataframe\">\n  <thead>\n    <tr style=\"text-align: right;\">\n      <th></th>\n      <th>Unique Key</th>\n    </tr>\n    <tr>\n      <th>Borough</th>\n      <th></th>\n    </tr>\n  </thead>\n  <tbody>\n    <tr>\n      <th>BRONX</th>\n      <td>1617956</td>\n    </tr>\n    <tr>\n      <th>BROOKLYN</th>\n      <td>1739886</td>\n    </tr>\n    <tr>\n      <th>MANHATTAN</th>\n      <td>1055225</td>\n    </tr>\n    <tr>\n      <th>QUEENS</th>\n      <td>645971</td>\n    </tr>\n    <tr>\n      <th>STATEN ISLAND</th>\n      <td>87584</td>\n    </tr>\n    <tr>\n      <th>Unspecified</th>\n      <td>873221</td>\n    </tr>\n  </tbody>\n</table>\n</div>",
                        "text/plain": "               Unique Key\nBorough                  \nBRONX             1617956\nBROOKLYN          1739886\nMANHATTAN         1055225\nQUEENS             645971\nSTATEN ISLAND       87584\nUnspecified        873221"
                    },
                    "execution_count": 48,
                    "metadata": {},
                    "output_type": "execute_result"
                }
            ],
            "source": "df_hpd.groupby('Borough')[['Unique Key']].count()"
        },
        {
            "cell_type": "code",
            "execution_count": 46,
            "metadata": {},
            "outputs": [
                {
                    "data": {
                        "text/plain": "(6019843, 16)"
                    },
                    "execution_count": 46,
                    "metadata": {},
                    "output_type": "execute_result"
                }
            ],
            "source": "df_hpd.shape"
        },
        {
            "cell_type": "code",
            "execution_count": null,
            "metadata": {},
            "outputs": [],
            "source": ""
        }
    ],
    "metadata": {
        "kernelspec": {
            "display_name": "Python 3.6",
            "language": "python",
            "name": "python3"
        },
        "language_info": {
            "codemirror_mode": {
                "name": "ipython",
                "version": 3
            },
            "file_extension": ".py",
            "mimetype": "text/x-python",
            "name": "python",
            "nbconvert_exporter": "python",
            "pygments_lexer": "ipython3",
            "version": "3.6.9"
        }
    },
    "nbformat": 4,
    "nbformat_minor": 1
}