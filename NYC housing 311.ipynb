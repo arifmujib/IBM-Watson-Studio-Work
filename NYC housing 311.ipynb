{
    "cells": [
        {
            "cell_type": "markdown",
            "metadata": {},
            "source": "# <b> Problem Statement\n\nThe people of New Yorker use the 311 system to report complaints about the non-emergency problems to local authorities. Various agencies in New York are assigned these problems. The Department of Housing Preservation and Development of New York City is the agency that processes 311 complaints that are related to housing and buildings.\n\nIn the last few years, the number of 311 complaints coming to the Department of Housing Preservation and Development has increased significantly. Although these complaints are not necessarily urgent, the large volume of complaints and the sudden increase is impacting the overall efficiency of operations of the agency.\n\nTherefore, the Department of Housing Preservation and Development has approached your organization to help them manage the large volume of 311 complaints they are receiving every year.\n\nThe agency needs answers to several questions. The answers to those questions must be supported by data and analytics. \n## These are their  questions:\n\n### Which type of complaint should the Department of Housing Preservation and Development of New York City focus on first?\n    Should the Department of Housing Preservation and Development of New York City focus on any particular set of boroughs, ZIP codes, or street (where the complaints are severe) for the specific type of complaints you identified in response to Question 1?\n    Does the Complaint Type that you identified in response to question 1 have an obvious relationship with any particular characteristic or characteristics of the houses or buildings?\n    Can a predictive model be built for a future prediction of the possibility of complaints of the type that you have identified in response to question 1?\n\n    \nYour organization has assigned you as the lead data scientist to provide the answers to these questions. You need to work on getting answers to them in this Capstone Project by following the standard approach of data science and machine learning."
        },
        {
            "cell_type": "code",
            "execution_count": 2,
            "metadata": {},
            "outputs": [],
            "source": "import pandas as pd\nimport numpy as np\nimport os\n#from sodapy import Socrata"
        },
        {
            "cell_type": "code",
            "execution_count": 3,
            "metadata": {},
            "outputs": [
                {
                    "name": "stdout",
                    "output_type": "stream",
                    "text": "Requirement already satisfied: sodapy in /opt/conda/envs/Python36/lib/python3.6/site-packages (2.0.0)\nRequirement already satisfied: requests>=2.20.0 in /opt/conda/envs/Python36/lib/python3.6/site-packages (from sodapy) (2.21.0)\nRequirement already satisfied: certifi>=2017.4.17 in /opt/conda/envs/Python36/lib/python3.6/site-packages (from requests>=2.20.0->sodapy) (2019.11.28)\nRequirement already satisfied: chardet<3.1.0,>=3.0.2 in /opt/conda/envs/Python36/lib/python3.6/site-packages (from requests>=2.20.0->sodapy) (3.0.4)\nRequirement already satisfied: idna<2.9,>=2.5 in /opt/conda/envs/Python36/lib/python3.6/site-packages (from requests>=2.20.0->sodapy) (2.8)\nRequirement already satisfied: urllib3<1.25,>=1.21.1 in /opt/conda/envs/Python36/lib/python3.6/site-packages (from requests>=2.20.0->sodapy) (1.24.1)\n"
                }
            ],
            "source": "!pip install sodapy"
        },
        {
            "cell_type": "code",
            "execution_count": 5,
            "metadata": {},
            "outputs": [],
            "source": "from sodapy import Socrata"
        },
        {
            "cell_type": "markdown",
            "metadata": {},
            "source": "sodapy is a module to handle SODA API. Let's set up the api parameters"
        },
        {
            "cell_type": "code",
            "execution_count": 6,
            "metadata": {},
            "outputs": [],
            "source": "SODA_API ='https://data.cityofnewyork.us/resource/erm2-nwe9.json'\nsocrata_domain = 'data.cityofnewyork.us'\nsocrata_dataset_identifier = 'erm2-nwe9'\n\n\n#socrate_token = os.environ.get()"
        },
        {
            "cell_type": "markdown",
            "metadata": {},
            "source": "Create a socrata object to handle the API"
        },
        {
            "cell_type": "code",
            "execution_count": 7,
            "metadata": {},
            "outputs": [],
            "source": "client = Socrata(socrata_domain, 'qJQUD7YIiS4kgvLS1km08uZxh')"
        },
        {
            "cell_type": "code",
            "execution_count": 8,
            "metadata": {},
            "outputs": [
                {
                    "name": "stdout",
                    "output_type": "stream",
                    "text": "Domain: data.cityofnewyork.us\nSession: <requests.sessions.Session object at 0x7f8e2a8ae630>\nURI Prefix: https://\n"
                }
            ],
            "source": "print('Domain: {domain:}\\nSession: {session:}\\nURI Prefix: {uri_prefix:}'.format(**client.__dict__))"
        },
        {
            "cell_type": "markdown",
            "metadata": {},
            "source": "Let's find out what are the columns are in the datasets"
        },
        {
            "cell_type": "code",
            "execution_count": 9,
            "metadata": {},
            "outputs": [
                {
                    "data": {
                        "text/plain": "['Unique Key',\n 'Created Date',\n 'Closed Date',\n 'Agency',\n 'Agency Name',\n 'Complaint Type',\n 'Descriptor',\n 'Location Type',\n 'Incident Zip',\n 'Incident Address',\n 'Street Name',\n 'Cross Street 1',\n 'Cross Street 2',\n 'Intersection Street 1',\n 'Intersection Street 2',\n 'Address Type',\n 'City',\n 'Landmark',\n 'Facility Type',\n 'Status',\n 'Due Date',\n 'Resolution Description',\n 'Resolution Action Updated Date',\n 'Community Board',\n 'BBL',\n 'Borough',\n 'X Coordinate (State Plane)',\n 'Y Coordinate (State Plane)',\n 'Open Data Channel Type',\n 'Park Facility Name',\n 'Park Borough',\n 'Vehicle Type',\n 'Taxi Company Borough',\n 'Taxi Pick Up Location',\n 'Bridge Highway Name',\n 'Bridge Highway Direction',\n 'Road Ramp',\n 'Bridge Highway Segment',\n 'Latitude',\n 'Longitude',\n 'Location',\n 'Zip Codes',\n 'Community Districts',\n 'Borough Boundaries',\n 'City Council Districts',\n 'Police Precincts']"
                    },
                    "execution_count": 9,
                    "metadata": {},
                    "output_type": "execute_result"
                }
            ],
            "source": "meta = client.get_metadata(socrata_dataset_identifier)\n[x['name'] for x in meta['columns']]"
        },
        {
            "cell_type": "markdown",
            "metadata": {},
            "source": "We don't need all of this. We will select only calls made for Department of Housing Preservation and Development. We also will need cases that hasn't been closed yet.\nWe are going to make a query and embed the query with the API request"
        },
        {
            "cell_type": "code",
            "execution_count": 10,
            "metadata": {},
            "outputs": [
                {
                    "data": {
                        "text/plain": "[{'unique_key': '45921136',\n  'created_date': '2020-03-30T08:51:47.000',\n  'agency': 'HPD',\n  'agency_name': 'Department of Housing Preservation and Development',\n  'complaint_type': 'GENERAL',\n  'descriptor': 'CABINET',\n  'location_type': 'RESIDENTIAL BUILDING',\n  'incident_zip': '10029',\n  'street_name': 'EAST  109 STREET',\n  'status': 'Open',\n  'borough': 'MANHATTAN',\n  'latitude': '40.792336317680174',\n  'longitude': '-73.9405012909439'},\n {'unique_key': '45921162',\n  'created_date': '2020-03-30T08:36:25.000',\n  'agency': 'HPD',\n  'agency_name': 'Department of Housing Preservation and Development',\n  'complaint_type': 'HEAT/HOT WATER',\n  'descriptor': 'APARTMENT ONLY',\n  'location_type': 'RESIDENTIAL BUILDING',\n  'incident_zip': '11208',\n  'street_name': 'CLEVELAND STREET',\n  'status': 'Open',\n  'borough': 'BROOKLYN',\n  'latitude': '40.668888026964495',\n  'longitude': '-73.88301437191929'},\n {'unique_key': '45921151',\n  'created_date': '2020-03-30T17:04:38.000',\n  'agency': 'HPD',\n  'agency_name': 'Department of Housing Preservation and Development',\n  'complaint_type': 'HEAT/HOT WATER',\n  'descriptor': 'ENTIRE BUILDING',\n  'location_type': 'RESIDENTIAL BUILDING',\n  'incident_zip': '10462',\n  'street_name': 'BRONXDALE AVENUE',\n  'status': 'Open',\n  'borough': 'BRONX',\n  'latitude': '40.850794587937656',\n  'longitude': '-73.86653703997725'}]"
                    },
                    "execution_count": 10,
                    "metadata": {},
                    "output_type": "execute_result"
                }
            ],
            "source": "query= \"\"\" select unique_key, created_date, agency, agency_name, complaint_type, descriptor, location_type, incident_zip, street_name,\nlandmark, status, due_date, borough, latitude, longitude\nwhere agency = 'HPD' and closed_date is null\"\"\"\nresult = client.get(socrata_dataset_identifier,query=query)\nresult[0:3]"
        },
        {
            "cell_type": "code",
            "execution_count": 14,
            "metadata": {},
            "outputs": [],
            "source": "df_complaint = "
        },
        {
            "cell_type": "code",
            "execution_count": 15,
            "metadata": {},
            "outputs": [
                {
                    "data": {
                        "text/plain": "dict"
                    },
                    "execution_count": 15,
                    "metadata": {},
                    "output_type": "execute_result"
                }
            ],
            "source": "type(meta)"
        },
        {
            "cell_type": "code",
            "execution_count": 49,
            "metadata": {},
            "outputs": [
                {
                    "data": {
                        "text/plain": "['Unique Key',\n 'Created Date',\n 'Closed Date',\n 'Agency',\n 'Agency Name',\n 'Complaint Type',\n 'Descriptor',\n 'Location Type',\n 'Incident Zip',\n 'Incident Address',\n 'Street Name',\n 'Cross Street 1',\n 'Cross Street 2',\n 'Intersection Street 1',\n 'Intersection Street 2',\n 'Address Type',\n 'City',\n 'Landmark',\n 'Facility Type',\n 'Status',\n 'Due Date',\n 'Resolution Description',\n 'Resolution Action Updated Date',\n 'Community Board',\n 'BBL',\n 'Borough',\n 'X Coordinate (State Plane)',\n 'Y Coordinate (State Plane)',\n 'Open Data Channel Type',\n 'Park Facility Name',\n 'Park Borough',\n 'Vehicle Type',\n 'Taxi Company Borough',\n 'Taxi Pick Up Location',\n 'Bridge Highway Name',\n 'Bridge Highway Direction',\n 'Road Ramp',\n 'Bridge Highway Segment',\n 'Latitude',\n 'Longitude',\n 'Location',\n 'Zip Codes',\n 'Community Districts',\n 'Borough Boundaries',\n 'City Council Districts',\n 'Police Precincts']"
                    },
                    "execution_count": 49,
                    "metadata": {},
                    "output_type": "execute_result"
                }
            ],
            "source": ""
        },
        {
            "cell_type": "code",
            "execution_count": null,
            "metadata": {},
            "outputs": [],
            "source": ""
        }
    ],
    "metadata": {
        "kernelspec": {
            "display_name": "Python 3.6",
            "language": "python",
            "name": "python3"
        },
        "language_info": {
            "codemirror_mode": {
                "name": "ipython",
                "version": 3
            },
            "file_extension": ".py",
            "mimetype": "text/x-python",
            "name": "python",
            "nbconvert_exporter": "python",
            "pygments_lexer": "ipython3",
            "version": "3.6.9"
        }
    },
    "nbformat": 4,
    "nbformat_minor": 1
}