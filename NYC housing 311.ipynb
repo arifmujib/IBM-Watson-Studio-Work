{
    "cells": [
        {
            "cell_type": "code",
            "execution_count": 1,
            "metadata": {},
            "outputs": [],
            "source": "import pandas as pd\nimport numpy as np\nimport os\n#from sodapy import Socrata"
        },
        {
            "cell_type": "code",
            "execution_count": 2,
            "metadata": {},
            "outputs": [
                {
                    "name": "stdout",
                    "output_type": "stream",
                    "text": "Requirement already satisfied: sodapy in /opt/conda/envs/Python36/lib/python3.6/site-packages (2.0.0)\nRequirement already satisfied: requests>=2.20.0 in /opt/conda/envs/Python36/lib/python3.6/site-packages (from sodapy) (2.21.0)\nRequirement already satisfied: chardet<3.1.0,>=3.0.2 in /opt/conda/envs/Python36/lib/python3.6/site-packages (from requests>=2.20.0->sodapy) (3.0.4)\nRequirement already satisfied: urllib3<1.25,>=1.21.1 in /opt/conda/envs/Python36/lib/python3.6/site-packages (from requests>=2.20.0->sodapy) (1.24.1)\nRequirement already satisfied: idna<2.9,>=2.5 in /opt/conda/envs/Python36/lib/python3.6/site-packages (from requests>=2.20.0->sodapy) (2.8)\nRequirement already satisfied: certifi>=2017.4.17 in /opt/conda/envs/Python36/lib/python3.6/site-packages (from requests>=2.20.0->sodapy) (2019.11.28)\n"
                }
            ],
            "source": "!pip install sodapy"
        },
        {
            "cell_type": "code",
            "execution_count": 3,
            "metadata": {},
            "outputs": [],
            "source": "from sodapy import Socrata"
        },
        {
            "cell_type": "code",
            "execution_count": 5,
            "metadata": {},
            "outputs": [],
            "source": "SODA_API ='https://data.cityofnewyork.us/resource/erm2-nwe9.json'\nsocrata_domain = 'data.cityofnewyork.us'\nsocrata_dataset_identifier = 'erm2-nwe9'\n\n\n#socrate_token = os.environ.get()"
        },
        {
            "cell_type": "code",
            "execution_count": 12,
            "metadata": {},
            "outputs": [],
            "source": "client = Socrata(socrata_domain, APPTOKEN)\n"
        },
        {
            "cell_type": "code",
            "execution_count": 10,
            "metadata": {},
            "outputs": [
                {
                    "name": "stdout",
                    "output_type": "stream",
                    "text": "Domain: data.cityofnewyork.us\nSession: <requests.sessions.Session object at 0x7f53ff7ea438>\nURI Prefix: https://\n"
                }
            ],
            "source": "print('Domain: {domain:}\\nSession: {session:}\\nURI Prefix: {uri_prefix:}'.format(**client.__dict__))"
        },
        {
            "cell_type": "code",
            "execution_count": 47,
            "metadata": {},
            "outputs": [
                {
                    "data": {
                        "text/plain": "[{'agency': 'HPD',\n  'unique_key': '45921136',\n  'agency_name': 'Department of Housing Preservation and Development'},\n {'agency': 'HPD',\n  'unique_key': '45921162',\n  'agency_name': 'Department of Housing Preservation and Development'},\n {'agency': 'HPD',\n  'unique_key': '45921151',\n  'agency_name': 'Department of Housing Preservation and Development'},\n {'agency': 'HPD',\n  'unique_key': '45921225',\n  'agency_name': 'Department of Housing Preservation and Development'},\n {'agency': 'HPD',\n  'unique_key': '45921209',\n  'agency_name': 'Department of Housing Preservation and Development'},\n {'agency': 'HPD',\n  'unique_key': '45921173',\n  'agency_name': 'Department of Housing Preservation and Development'},\n {'agency': 'HPD',\n  'unique_key': '45921178',\n  'agency_name': 'Department of Housing Preservation and Development'},\n {'agency': 'HPD',\n  'unique_key': '45921230',\n  'agency_name': 'Department of Housing Preservation and Development'},\n {'agency': 'HPD',\n  'unique_key': '45921239',\n  'agency_name': 'Department of Housing Preservation and Development'},\n {'agency': 'HPD',\n  'unique_key': '45921075',\n  'agency_name': 'Department of Housing Preservation and Development'}]"
                    },
                    "execution_count": 47,
                    "metadata": {},
                    "output_type": "execute_result"
                }
            ],
            "source": "query= \"\"\" select agency, unique_key, agency_name\nwhere agency = 'HPD' and closed_date is null \nlimit 10\"\"\"\nresult = client.get(socrata_dataset_identifier,query=query)\nresult"
        },
        {
            "cell_type": "code",
            "execution_count": 14,
            "metadata": {},
            "outputs": [],
            "source": "meta = client.get_metadata(socrata_dataset_identifier)"
        },
        {
            "cell_type": "code",
            "execution_count": 15,
            "metadata": {},
            "outputs": [
                {
                    "data": {
                        "text/plain": "dict"
                    },
                    "execution_count": 15,
                    "metadata": {},
                    "output_type": "execute_result"
                }
            ],
            "source": "type(meta)"
        },
        {
            "cell_type": "code",
            "execution_count": 49,
            "metadata": {},
            "outputs": [
                {
                    "data": {
                        "text/plain": "['Unique Key',\n 'Created Date',\n 'Closed Date',\n 'Agency',\n 'Agency Name',\n 'Complaint Type',\n 'Descriptor',\n 'Location Type',\n 'Incident Zip',\n 'Incident Address',\n 'Street Name',\n 'Cross Street 1',\n 'Cross Street 2',\n 'Intersection Street 1',\n 'Intersection Street 2',\n 'Address Type',\n 'City',\n 'Landmark',\n 'Facility Type',\n 'Status',\n 'Due Date',\n 'Resolution Description',\n 'Resolution Action Updated Date',\n 'Community Board',\n 'BBL',\n 'Borough',\n 'X Coordinate (State Plane)',\n 'Y Coordinate (State Plane)',\n 'Open Data Channel Type',\n 'Park Facility Name',\n 'Park Borough',\n 'Vehicle Type',\n 'Taxi Company Borough',\n 'Taxi Pick Up Location',\n 'Bridge Highway Name',\n 'Bridge Highway Direction',\n 'Road Ramp',\n 'Bridge Highway Segment',\n 'Latitude',\n 'Longitude',\n 'Location',\n 'Zip Codes',\n 'Community Districts',\n 'Borough Boundaries',\n 'City Council Districts',\n 'Police Precincts']"
                    },
                    "execution_count": 49,
                    "metadata": {},
                    "output_type": "execute_result"
                }
            ],
            "source": "[x['name'] for x in meta['columns']]"
        },
        {
            "cell_type": "code",
            "execution_count": null,
            "metadata": {},
            "outputs": [],
            "source": ""
        }
    ],
    "metadata": {
        "kernelspec": {
            "display_name": "Python 3.6",
            "language": "python",
            "name": "python3"
        },
        "language_info": {
            "codemirror_mode": {
                "name": "ipython",
                "version": 3
            },
            "file_extension": ".py",
            "mimetype": "text/x-python",
            "name": "python",
            "nbconvert_exporter": "python",
            "pygments_lexer": "ipython3",
            "version": "3.6.9"
        }
    },
    "nbformat": 4,
    "nbformat_minor": 1
}